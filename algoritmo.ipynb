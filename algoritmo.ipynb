{
  "nbformat": 4,
  "nbformat_minor": 0,
  "metadata": {
    "colab": {
      "provenance": [],
      "authorship_tag": "ABX9TyN+LxuHwJTxSU/YM4sMglaS",
      "include_colab_link": true
    },
    "kernelspec": {
      "name": "python3",
      "display_name": "Python 3"
    },
    "language_info": {
      "name": "python"
    }
  },
  "cells": [
    {
      "cell_type": "markdown",
      "metadata": {
        "id": "view-in-github",
        "colab_type": "text"
      },
      "source": [
        "<a href=\"https://colab.research.google.com/github/TheLuuiis/Algoritmo/blob/main/algoritmo.ipynb\" target=\"_parent\"><img src=\"https://colab.research.google.com/assets/colab-badge.svg\" alt=\"Open In Colab\"/></a>"
      ]
    },
    {
      "cell_type": "code",
      "execution_count": null,
      "metadata": {
        "colab": {
          "base_uri": "https://localhost:8080/",
          "height": 416
        },
        "id": "jftFL63NbU75",
        "outputId": "6ed812f4-1315-4d59-a9b9-227a0ffa13ec"
      },
      "outputs": [
        {
          "output_type": "stream",
          "name": "stdout",
          "text": [
            "Mejor distancia encontrada: 647.92\n"
          ]
        },
        {
          "output_type": "display_data",
          "data": {
            "text/plain": [
              "<IPython.core.display.Javascript object>"
            ],
            "application/javascript": [
              "\n",
              "    async function download(id, filename, size) {\n",
              "      if (!google.colab.kernel.accessAllowed) {\n",
              "        return;\n",
              "      }\n",
              "      const div = document.createElement('div');\n",
              "      const label = document.createElement('label');\n",
              "      label.textContent = `Downloading \"${filename}\": `;\n",
              "      div.appendChild(label);\n",
              "      const progress = document.createElement('progress');\n",
              "      progress.max = size;\n",
              "      div.appendChild(progress);\n",
              "      document.body.appendChild(div);\n",
              "\n",
              "      const buffers = [];\n",
              "      let downloaded = 0;\n",
              "\n",
              "      const channel = await google.colab.kernel.comms.open(id);\n",
              "      // Send a message to notify the kernel that we're ready.\n",
              "      channel.send({})\n",
              "\n",
              "      for await (const message of channel.messages) {\n",
              "        // Send a message to notify the kernel that we're ready.\n",
              "        channel.send({})\n",
              "        if (message.buffers) {\n",
              "          for (const buffer of message.buffers) {\n",
              "            buffers.push(buffer);\n",
              "            downloaded += buffer.byteLength;\n",
              "            progress.value = downloaded;\n",
              "          }\n",
              "        }\n",
              "      }\n",
              "      const blob = new Blob(buffers, {type: 'application/binary'});\n",
              "      const a = document.createElement('a');\n",
              "      a.href = window.URL.createObjectURL(blob);\n",
              "      a.download = filename;\n",
              "      div.appendChild(a);\n",
              "      a.click();\n",
              "      div.remove();\n",
              "    }\n",
              "  "
            ]
          },
          "metadata": {}
        },
        {
          "output_type": "display_data",
          "data": {
            "text/plain": [
              "<IPython.core.display.Javascript object>"
            ],
            "application/javascript": [
              "download(\"download_d6031168-5af1-4be4-b00a-fbf547d165aa\", \"ruta_optimizada.png\", 49630)"
            ]
          },
          "metadata": {}
        },
        {
          "output_type": "stream",
          "name": "stdout",
          "text": [
            "\n",
            "Coordenadas de la ruta optimizada:\n",
            "Parada 1: (76, 126)\n",
            "Parada 2: (42, 101)\n",
            "Parada 3: (35, 95)\n",
            "Parada 4: (16, 74)\n",
            "Parada 5: (6, 75)\n",
            "Parada 6: (4, 58)\n",
            "Parada 7: (18, 53)\n",
            "Parada 8: (40, 34)\n",
            "Parada 9: (70, 2)\n",
            "Parada 10: (118, 19)\n",
            "Parada 11: (127, 68)\n",
            "Parada 12: (108, 91)\n",
            "Parada 13: (100, 83)\n",
            "Parada 14: (140, 143)\n",
            "Parada 15: (150, 157)\n",
            "Parada 16: (179, 165)\n",
            "Parada 17: (170, 188)\n",
            "Parada 18: (113, 196)\n",
            "Parada 19: (103, 198)\n",
            "Parada 20: (62, 178)\n"
          ]
        }
      ],
      "source": [
        "import numpy as np\n",
        "import matplotlib.pyplot as plt\n",
        "import random\n",
        "from google.colab import files\n",
        "\n",
        "# Definimos la clase para representar una ciudad (contenedor de basura)\n",
        "class City:\n",
        "    def __init__(self, x, y):\n",
        "        self.x = x\n",
        "        self.y = y\n",
        "\n",
        "    def distance(self, other):\n",
        "        return ((self.x - other.x)**2 + (self.y - other.y)**2)**0.5\n",
        "\n",
        "# Creamos una lista de ciudades (contenedores)\n",
        "def create_cities(num_cities):\n",
        "    return [City(x=int(random.random() * 200), y=int(random.random() * 200)) for _ in range(num_cities)]\n",
        "\n",
        "# Calculamos la distancia total de una ruta\n",
        "def route_distance(route):\n",
        "    return sum(route[i].distance(route[i-1]) for i in range(len(route)))\n",
        "\n",
        "# Creamos una población inicial\n",
        "def initial_population(cities, pop_size):\n",
        "    return [random.sample(cities, len(cities)) for _ in range(pop_size)]\n",
        "\n",
        "# Función de aptitud (fitness)\n",
        "def fitness(route):\n",
        "    return 1 / route_distance(route)\n",
        "\n",
        "# Selección de padres\n",
        "def selection(population, k=3):\n",
        "    return max(random.sample(population, k), key=fitness)\n",
        "\n",
        "# Cruce (crossover)\n",
        "def crossover(parent1, parent2):\n",
        "    child = [None] * len(parent1)\n",
        "    start, end = sorted(random.sample(range(len(parent1)), 2))\n",
        "    child[start:end] = parent1[start:end]\n",
        "    pointer = end\n",
        "    for city in parent2:\n",
        "        if city not in child:\n",
        "            child[pointer] = city\n",
        "            pointer = (pointer + 1) % len(parent1)\n",
        "    return child\n",
        "\n",
        "# Mutación\n",
        "def mutate(route, mutation_rate):\n",
        "    for i in range(len(route)):\n",
        "        if random.random() < mutation_rate:\n",
        "            j = random.randint(0, len(route) - 1)\n",
        "            route[i], route[j] = route[j], route[i]\n",
        "    return route\n",
        "\n",
        "# Algoritmo genético principal\n",
        "def genetic_algorithm(cities, pop_size=100, generations=1000, mutation_rate=0.01):\n",
        "    population = initial_population(cities, pop_size)\n",
        "    best_route = min(population, key=route_distance)\n",
        "    best_distance = route_distance(best_route)\n",
        "\n",
        "    for _ in range(generations):\n",
        "        new_population = []\n",
        "        for _ in range(pop_size):\n",
        "            parent1 = selection(population)\n",
        "            parent2 = selection(population)\n",
        "            child = crossover(parent1, parent2)\n",
        "            child = mutate(child, mutation_rate)\n",
        "            new_population.append(child)\n",
        "\n",
        "        population = new_population\n",
        "        current_best = min(population, key=route_distance)\n",
        "        current_distance = route_distance(current_best)\n",
        "\n",
        "        if current_distance < best_distance:\n",
        "            best_route = current_best\n",
        "            best_distance = current_distance\n",
        "\n",
        "    return best_route, best_distance\n",
        "\n",
        "# Visualización de la ruta\n",
        "def plot_route(route):\n",
        "    plt.figure(figsize=(10, 6))\n",
        "    points = np.array([(city.x, city.y) for city in route])\n",
        "    plt.plot(points[:, 0], points[:, 1], 'o-')\n",
        "    plt.title(\"Ruta Optimizada de Recolección de Residuos\")\n",
        "    plt.xlabel(\"Coordenada X\")\n",
        "    plt.ylabel(\"Coordenada Y\")\n",
        "    plt.grid(True)\n",
        "    plt.savefig('ruta_optimizada.png')\n",
        "    plt.close()\n",
        "\n",
        "# Ejecución principal\n",
        "num_cities = 20\n",
        "cities = create_cities(num_cities)\n",
        "best_route, best_distance = genetic_algorithm(cities)\n",
        "\n",
        "print(f\"Mejor distancia encontrada: {best_distance:.2f}\")\n",
        "\n",
        "plot_route(best_route)\n",
        "files.download('ruta_optimizada.png')\n",
        "\n",
        "# Imprimir coordenadas de la ruta optimizada\n",
        "print(\"\\nCoordenadas de la ruta optimizada:\")\n",
        "for i, city in enumerate(best_route):\n",
        "    print(f\"Parada {i+1}: ({city.x}, {city.y})\")"
      ]
    }
  ]
}